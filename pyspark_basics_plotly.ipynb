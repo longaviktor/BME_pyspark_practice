{
 "cells": [
  {
   "cell_type": "code",
   "execution_count": 23,
   "metadata": {},
   "outputs": [],
   "source": [
    "from pyspark.sql import SparkSession\n",
    "from pyspark.sql.functions import col,create_map, lit\n",
    "from itertools import chain\n",
    "import numpy as np\n",
    "import pandas as pd\n",
    "import subprocess"
   ]
  },
  {
   "cell_type": "code",
   "execution_count": 24,
   "metadata": {},
   "outputs": [
    {
     "data": {
      "text/html": [
       "<script type=\"text/javascript\">window.PlotlyConfig = {MathJaxConfig: 'local'};</script><script type=\"text/javascript\">if (window.MathJax) {MathJax.Hub.Config({SVG: {font: \"STIX-Web\"}});}</script><script>requirejs.config({paths: { 'plotly': ['https://cdn.plot.ly/plotly-latest.min']},});if(!window._Plotly) {require(['plotly'],function(plotly) {window._Plotly=plotly;});}</script>"
      ],
      "text/vnd.plotly.v1+html": [
       "<script type=\"text/javascript\">window.PlotlyConfig = {MathJaxConfig: 'local'};</script><script type=\"text/javascript\">if (window.MathJax) {MathJax.Hub.Config({SVG: {font: \"STIX-Web\"}});}</script><script>requirejs.config({paths: { 'plotly': ['https://cdn.plot.ly/plotly-latest.min']},});if(!window._Plotly) {require(['plotly'],function(plotly) {window._Plotly=plotly;});}</script>"
      ]
     },
     "metadata": {},
     "output_type": "display_data"
    }
   ],
   "source": [
    "import plotly.offline as py\n",
    "import plotly.graph_objs as go\n",
    "from plotly.offline import download_plotlyjs, init_notebook_mode, plot, iplot\n",
    "init_notebook_mode(connected=True)"
   ]
  },
  {
   "cell_type": "code",
   "execution_count": 25,
   "metadata": {},
   "outputs": [],
   "source": [
    "spark = SparkSession.builder.appName('practice').getOrCreate()"
   ]
  },
  {
   "cell_type": "code",
   "execution_count": 26,
   "metadata": {},
   "outputs": [],
   "source": [
    "prqt_loc = '../../../../datasets/ess/parquet/'"
   ]
  },
  {
   "cell_type": "code",
   "execution_count": 27,
   "metadata": {
    "scrolled": true
   },
   "outputs": [
    {
     "name": "stdout",
     "output_type": "stream",
     "text": [
      "Exit code: 0\n",
      "Output:\n",
      "\n",
      "ns_ESS1_180115.parquet\n",
      "ns_ESS2_180115.parquet\n",
      "ns_ESS3_180115.parquet\n",
      "ns_ESS4_190213.parquet\n",
      "ns_ESS5_180115.parquet\n",
      "ns_ESS6_180115.parquet\n",
      "ns_ESS7_180115.parquet\n",
      "ns_ESS8_190213.parquet\n",
      "\n"
     ]
    }
   ],
   "source": [
    "p = subprocess.Popen(f'ls {prqt_loc}', shell=True, stdout=subprocess.PIPE)\n",
    "ret = p.communicate()\n",
    "print('Exit code: {}\\nOutput:\\n\\n{}'.format(p.returncode, ret[0].decode('utf-8')))"
   ]
  },
  {
   "cell_type": "code",
   "execution_count": 28,
   "metadata": {},
   "outputs": [],
   "source": [
    "parquets = [ pqt for pqt in ret[0].decode('utf-8').split('\\n') if pqt.find('.parquet') > 0 ]"
   ]
  },
  {
   "cell_type": "code",
   "execution_count": 100,
   "metadata": {},
   "outputs": [],
   "source": [
    "df = spark.read.parquet(f\"{prqt_loc}*.parquet\")"
   ]
  },
  {
   "cell_type": "code",
   "execution_count": 101,
   "metadata": {},
   "outputs": [
    {
     "data": {
      "text/plain": [
       "1496"
      ]
     },
     "execution_count": 101,
     "metadata": {},
     "output_type": "execute_result"
    }
   ],
   "source": [
    "len( df.columns )"
   ]
  },
  {
   "cell_type": "code",
   "execution_count": 103,
   "metadata": {},
   "outputs": [
    {
     "data": {
      "text/plain": [
       "380384"
      ]
     },
     "execution_count": 103,
     "metadata": {},
     "output_type": "execute_result"
    }
   ],
   "source": [
    "df.count()"
   ]
  },
  {
   "cell_type": "code",
   "execution_count": 30,
   "metadata": {},
   "outputs": [
    {
     "data": {
      "text/html": [
       "<div>\n",
       "<style scoped>\n",
       "    .dataframe tbody tr th:only-of-type {\n",
       "        vertical-align: middle;\n",
       "    }\n",
       "\n",
       "    .dataframe tbody tr th {\n",
       "        vertical-align: top;\n",
       "    }\n",
       "\n",
       "    .dataframe thead th {\n",
       "        text-align: right;\n",
       "    }\n",
       "</style>\n",
       "<table border=\"1\" class=\"dataframe\">\n",
       "  <thead>\n",
       "    <tr style=\"text-align: right;\">\n",
       "      <th></th>\n",
       "      <th>cntry</th>\n",
       "      <th>happy</th>\n",
       "      <th>essround</th>\n",
       "    </tr>\n",
       "  </thead>\n",
       "  <tbody>\n",
       "    <tr>\n",
       "      <th>0</th>\n",
       "      <td>CY</td>\n",
       "      <td>7.0</td>\n",
       "      <td>5</td>\n",
       "    </tr>\n",
       "    <tr>\n",
       "      <th>1</th>\n",
       "      <td>DE</td>\n",
       "      <td>8.0</td>\n",
       "      <td>5</td>\n",
       "    </tr>\n",
       "    <tr>\n",
       "      <th>2</th>\n",
       "      <td>IE</td>\n",
       "      <td>10.0</td>\n",
       "      <td>2</td>\n",
       "    </tr>\n",
       "    <tr>\n",
       "      <th>3</th>\n",
       "      <td>SK</td>\n",
       "      <td>5.0</td>\n",
       "      <td>2</td>\n",
       "    </tr>\n",
       "    <tr>\n",
       "      <th>4</th>\n",
       "      <td>FI</td>\n",
       "      <td>6.0</td>\n",
       "      <td>6</td>\n",
       "    </tr>\n",
       "    <tr>\n",
       "      <th>5</th>\n",
       "      <td>NL</td>\n",
       "      <td>9.0</td>\n",
       "      <td>6</td>\n",
       "    </tr>\n",
       "    <tr>\n",
       "      <th>6</th>\n",
       "      <td>FI</td>\n",
       "      <td>9.0</td>\n",
       "      <td>7</td>\n",
       "    </tr>\n",
       "    <tr>\n",
       "      <th>7</th>\n",
       "      <td>CZ</td>\n",
       "      <td>7.0</td>\n",
       "      <td>1</td>\n",
       "    </tr>\n",
       "  </tbody>\n",
       "</table>\n",
       "</div>"
      ],
      "text/plain": [
       "  cntry  happy  essround\n",
       "0    CY    7.0         5\n",
       "1    DE    8.0         5\n",
       "2    IE   10.0         2\n",
       "3    SK    5.0         2\n",
       "4    FI    6.0         6\n",
       "5    NL    9.0         6\n",
       "6    FI    9.0         7\n",
       "7    CZ    7.0         1"
      ]
     },
     "execution_count": 30,
     "metadata": {},
     "output_type": "execute_result"
    }
   ],
   "source": [
    "df.select('cntry','happy','essround').sample(0.00001).toPandas()"
   ]
  },
  {
   "cell_type": "code",
   "execution_count": 31,
   "metadata": {},
   "outputs": [],
   "source": [
    "ess_year = {1:2002,2:2004,3:2006,4:2008,5:2010,6:2012,7:2014,8:2016}"
   ]
  },
  {
   "cell_type": "code",
   "execution_count": 84,
   "metadata": {},
   "outputs": [],
   "source": [
    "mapping_expr = create_map([lit(x) for x in chain(*ess_year.items())])"
   ]
  },
  {
   "cell_type": "code",
   "execution_count": 85,
   "metadata": {},
   "outputs": [],
   "source": [
    "df2 = df.select('cntry','happy','essround').withColumn('essround', mapping_expr[df['essround']])"
   ]
  },
  {
   "cell_type": "code",
   "execution_count": 88,
   "metadata": {},
   "outputs": [],
   "source": [
    "df_temp = df2.select('cntry','happy','essround').filter(col('happy') < 11).groupBy('cntry','essround').mean('happy').sort(col('essround').desc()).toPandas()"
   ]
  },
  {
   "cell_type": "code",
   "execution_count": 89,
   "metadata": {},
   "outputs": [
    {
     "data": {
      "text/plain": [
       "array(['FI', 'CZ', 'BE', 'LT', 'ES', 'NO', 'NL', 'PL', 'CH', 'IT', 'GB',\n",
       "       'DE', 'IS', 'IE', 'SI', 'HU', 'AT', 'RU', 'PT', 'IL', 'SE', 'FR',\n",
       "       'EE', 'DK', 'BG', 'SK', 'CY', 'UA', 'HR', 'GR', 'TR', 'LV', 'RO',\n",
       "       'LU'], dtype=object)"
      ]
     },
     "execution_count": 89,
     "metadata": {},
     "output_type": "execute_result"
    }
   ],
   "source": [
    "df_temp.cntry.unique()"
   ]
  },
  {
   "cell_type": "code",
   "execution_count": 90,
   "metadata": {
    "scrolled": true
   },
   "outputs": [],
   "source": [
    "cntry_filter = ['HU','RO','SK','AT','PL','CZ','DE']"
   ]
  },
  {
   "cell_type": "code",
   "execution_count": 94,
   "metadata": {},
   "outputs": [
    {
     "data": {
      "application/vnd.plotly.v1+json": {
       "config": {
        "linkText": "Export to plot.ly",
        "plotlyServerURL": "https://plot.ly",
        "showLink": false
       },
       "data": [
        {
         "name": "HU",
         "type": "scatter",
         "uid": "f2757add-7522-4cb2-b3cd-bb37329601c7",
         "x": [
          2016,
          2014,
          2012,
          2010,
          2008,
          2006,
          2004,
          2002
         ],
         "y": [
          6.808695652173913,
          6.373151981076286,
          6.104633781763827,
          6.427559562137798,
          5.942019543973942,
          6.236737400530504,
          6.388401888064734,
          6.32061978545888
         ]
        },
        {
         "name": "RO",
         "type": "scatter",
         "uid": "caf25f47-0c69-4858-b82b-a549913e0eaf",
         "x": [
          2008
         ],
         "y": [
          6.089080459770115
         ]
        },
        {
         "name": "SK",
         "type": "scatter",
         "uid": "bd214753-fc59-4a04-aa8c-a0fd33404339",
         "x": [
          2012,
          2010,
          2008,
          2006,
          2004
         ],
         "y": [
          6.6542669584245075,
          6.6593886462882095,
          6.6247191011235955,
          6.524193548387097,
          6.240455458807769
         ]
        },
        {
         "name": "AT",
         "type": "scatter",
         "uid": "5141c93b-6fe1-4643-a548-cab87535c75b",
         "x": [
          2016,
          2014,
          2006,
          2004,
          2002
         ],
         "y": [
          7.551724137931035,
          7.328866554997208,
          7.440891880521666,
          7.4897137745974955,
          7.577471059661621
         ]
        },
        {
         "name": "PL",
         "type": "scatter",
         "uid": "e6353a12-908b-41d4-a131-7295822fa08c",
         "x": [
          2016,
          2014,
          2012,
          2010,
          2008,
          2006,
          2004,
          2002
         ],
         "y": [
          7.4773139745916515,
          7.247183979974968,
          7.317333333333333,
          7.313095238095238,
          7.151155527795128,
          6.948688046647231,
          6.721800116890707,
          6.425511661113755
         ]
        },
        {
         "name": "CZ",
         "type": "scatter",
         "uid": "b1b7d4f3-ff1e-457a-91e5-7d84ec581421",
         "x": [
          2016,
          2014,
          2012,
          2010,
          2008,
          2004,
          2002
         ],
         "y": [
          6.868316394167035,
          6.891458235016517,
          6.641874681609781,
          6.591888466413181,
          6.846153846153846,
          6.809746328437917,
          6.749258160237389
         ]
        },
        {
         "name": "DE",
         "type": "scatter",
         "uid": "47a06e33-ec87-42d4-8d16-4717bc64c071",
         "x": [
          2016,
          2014,
          2012,
          2010,
          2008,
          2006,
          2004,
          2002
         ],
         "y": [
          7.756405756405757,
          7.605592105263158,
          7.634856175972927,
          7.359774311317624,
          7.194961664841183,
          7.012732278045423,
          7.03149055283415,
          7.155509783728116
         ]
        }
       ],
       "layout": {
        "title": {
         "text": "Avarage happiness 2002 - 2016 )"
        }
       }
      },
      "text/html": [
       "<div id=\"ac836328-f91d-4d0f-acdd-b7b5b24c863d\" style=\"height: 525px; width: 100%;\" class=\"plotly-graph-div\"></div><script type=\"text/javascript\">require([\"plotly\"], function(Plotly) { window.PLOTLYENV=window.PLOTLYENV || {};window.PLOTLYENV.BASE_URL=\"https://plot.ly\";Plotly.newPlot(\"ac836328-f91d-4d0f-acdd-b7b5b24c863d\", [{\"name\": \"HU\", \"x\": [2016, 2014, 2012, 2010, 2008, 2006, 2004, 2002], \"y\": [6.808695652173913, 6.373151981076286, 6.104633781763827, 6.427559562137798, 5.942019543973942, 6.236737400530504, 6.388401888064734, 6.32061978545888], \"type\": \"scatter\", \"uid\": \"0b1bd18f-e4fe-442f-8284-92379fbe60e2\"}, {\"name\": \"RO\", \"x\": [2008], \"y\": [6.089080459770115], \"type\": \"scatter\", \"uid\": \"1ae4a0f6-23f3-4fb0-bbbd-6e9e87ecd18d\"}, {\"name\": \"SK\", \"x\": [2012, 2010, 2008, 2006, 2004], \"y\": [6.6542669584245075, 6.6593886462882095, 6.6247191011235955, 6.524193548387097, 6.240455458807769], \"type\": \"scatter\", \"uid\": \"3eccc888-c988-4f9f-90f5-c6c0c24e8c62\"}, {\"name\": \"AT\", \"x\": [2016, 2014, 2006, 2004, 2002], \"y\": [7.551724137931035, 7.328866554997208, 7.440891880521666, 7.4897137745974955, 7.577471059661621], \"type\": \"scatter\", \"uid\": \"1bab36bb-dda4-4e87-a37b-41d8bd701d1b\"}, {\"name\": \"PL\", \"x\": [2016, 2014, 2012, 2010, 2008, 2006, 2004, 2002], \"y\": [7.4773139745916515, 7.247183979974968, 7.317333333333333, 7.313095238095238, 7.151155527795128, 6.948688046647231, 6.721800116890707, 6.425511661113755], \"type\": \"scatter\", \"uid\": \"c6eb2932-3795-41e5-b13c-2dc857295e8a\"}, {\"name\": \"CZ\", \"x\": [2016, 2014, 2012, 2010, 2008, 2004, 2002], \"y\": [6.868316394167035, 6.891458235016517, 6.641874681609781, 6.591888466413181, 6.846153846153846, 6.809746328437917, 6.749258160237389], \"type\": \"scatter\", \"uid\": \"3ba9e5ab-1d05-4bd6-8ffe-474c4bf37abe\"}, {\"name\": \"DE\", \"x\": [2016, 2014, 2012, 2010, 2008, 2006, 2004, 2002], \"y\": [7.756405756405757, 7.605592105263158, 7.634856175972927, 7.359774311317624, 7.194961664841183, 7.012732278045423, 7.03149055283415, 7.155509783728116], \"type\": \"scatter\", \"uid\": \"3302b434-77aa-4337-abf1-def01e10dc84\"}], {\"title\": {\"text\": \"Avarage happiness 2002 - 2016 )\"}}, {\"showLink\": false, \"linkText\": \"Export to plot.ly\", \"plotlyServerURL\": \"https://plot.ly\"})});</script><script type=\"text/javascript\">window.addEventListener(\"resize\", function(){window._Plotly.Plots.resize(document.getElementById(\"ac836328-f91d-4d0f-acdd-b7b5b24c863d\"));});</script>"
      ],
      "text/vnd.plotly.v1+html": [
       "<div id=\"ac836328-f91d-4d0f-acdd-b7b5b24c863d\" style=\"height: 525px; width: 100%;\" class=\"plotly-graph-div\"></div><script type=\"text/javascript\">require([\"plotly\"], function(Plotly) { window.PLOTLYENV=window.PLOTLYENV || {};window.PLOTLYENV.BASE_URL=\"https://plot.ly\";Plotly.newPlot(\"ac836328-f91d-4d0f-acdd-b7b5b24c863d\", [{\"name\": \"HU\", \"x\": [2016, 2014, 2012, 2010, 2008, 2006, 2004, 2002], \"y\": [6.808695652173913, 6.373151981076286, 6.104633781763827, 6.427559562137798, 5.942019543973942, 6.236737400530504, 6.388401888064734, 6.32061978545888], \"type\": \"scatter\", \"uid\": \"0b1bd18f-e4fe-442f-8284-92379fbe60e2\"}, {\"name\": \"RO\", \"x\": [2008], \"y\": [6.089080459770115], \"type\": \"scatter\", \"uid\": \"1ae4a0f6-23f3-4fb0-bbbd-6e9e87ecd18d\"}, {\"name\": \"SK\", \"x\": [2012, 2010, 2008, 2006, 2004], \"y\": [6.6542669584245075, 6.6593886462882095, 6.6247191011235955, 6.524193548387097, 6.240455458807769], \"type\": \"scatter\", \"uid\": \"3eccc888-c988-4f9f-90f5-c6c0c24e8c62\"}, {\"name\": \"AT\", \"x\": [2016, 2014, 2006, 2004, 2002], \"y\": [7.551724137931035, 7.328866554997208, 7.440891880521666, 7.4897137745974955, 7.577471059661621], \"type\": \"scatter\", \"uid\": \"1bab36bb-dda4-4e87-a37b-41d8bd701d1b\"}, {\"name\": \"PL\", \"x\": [2016, 2014, 2012, 2010, 2008, 2006, 2004, 2002], \"y\": [7.4773139745916515, 7.247183979974968, 7.317333333333333, 7.313095238095238, 7.151155527795128, 6.948688046647231, 6.721800116890707, 6.425511661113755], \"type\": \"scatter\", \"uid\": \"c6eb2932-3795-41e5-b13c-2dc857295e8a\"}, {\"name\": \"CZ\", \"x\": [2016, 2014, 2012, 2010, 2008, 2004, 2002], \"y\": [6.868316394167035, 6.891458235016517, 6.641874681609781, 6.591888466413181, 6.846153846153846, 6.809746328437917, 6.749258160237389], \"type\": \"scatter\", \"uid\": \"3ba9e5ab-1d05-4bd6-8ffe-474c4bf37abe\"}, {\"name\": \"DE\", \"x\": [2016, 2014, 2012, 2010, 2008, 2006, 2004, 2002], \"y\": [7.756405756405757, 7.605592105263158, 7.634856175972927, 7.359774311317624, 7.194961664841183, 7.012732278045423, 7.03149055283415, 7.155509783728116], \"type\": \"scatter\", \"uid\": \"3302b434-77aa-4337-abf1-def01e10dc84\"}], {\"title\": {\"text\": \"Avarage happiness 2002 - 2016 )\"}}, {\"showLink\": false, \"linkText\": \"Export to plot.ly\", \"plotlyServerURL\": \"https://plot.ly\"})});</script><script type=\"text/javascript\">window.addEventListener(\"resize\", function(){window._Plotly.Plots.resize(document.getElementById(\"ac836328-f91d-4d0f-acdd-b7b5b24c863d\"));});</script>"
      ]
     },
     "metadata": {},
     "output_type": "display_data"
    }
   ],
   "source": [
    "py.iplot({\n",
    "    \"data\": [ go.Scatter( x= df_temp[df_temp.cntry == cntry]['essround'],\n",
    "                     y= df_temp[df_temp.cntry == cntry]['avg(happy)'],\n",
    "                     name=cntry ) for cntry in cntry_filter ],\n",
    "    \"layout\": go.Layout(title=\"Avarage happiness 2002 - 2016 )\")\n",
    "})"
   ]
  },
  {
   "cell_type": "code",
   "execution_count": 104,
   "metadata": {},
   "outputs": [
    {
     "data": {
      "application/vnd.plotly.v1+json": {
       "config": {
        "linkText": "Export to plot.ly",
        "plotlyServerURL": "https://plot.ly",
        "showLink": false
       },
       "data": [
        {
         "type": "scatter",
         "uid": "24828a6e-5ae2-4044-911e-1e8fc524eb62",
         "x": [
          2016,
          2014,
          2012,
          2010,
          2008,
          2006,
          2004,
          2002
         ],
         "y": [
          6.808695652173913,
          6.373151981076286,
          6.104633781763827,
          6.427559562137798,
          5.942019543973942,
          6.236737400530504,
          6.388401888064734,
          6.32061978545888
         ]
        }
       ],
       "layout": {
        "title": {
         "text": "Hungary (avarage happiness 2002 - 2016 )"
        }
       }
      },
      "text/html": [
       "<div id=\"246effa2-2424-4f9d-b2b2-b6b15c38723c\" style=\"height: 525px; width: 100%;\" class=\"plotly-graph-div\"></div><script type=\"text/javascript\">require([\"plotly\"], function(Plotly) { window.PLOTLYENV=window.PLOTLYENV || {};window.PLOTLYENV.BASE_URL=\"https://plot.ly\";Plotly.newPlot(\"246effa2-2424-4f9d-b2b2-b6b15c38723c\", [{\"x\": [2016, 2014, 2012, 2010, 2008, 2006, 2004, 2002], \"y\": [6.808695652173913, 6.373151981076286, 6.104633781763827, 6.427559562137798, 5.942019543973942, 6.236737400530504, 6.388401888064734, 6.32061978545888], \"type\": \"scatter\", \"uid\": \"c2383f91-58c2-49af-926e-9d9f760352bd\"}], {\"title\": {\"text\": \"Hungary (avarage happiness 2002 - 2016 )\"}}, {\"showLink\": false, \"linkText\": \"Export to plot.ly\", \"plotlyServerURL\": \"https://plot.ly\"})});</script><script type=\"text/javascript\">window.addEventListener(\"resize\", function(){window._Plotly.Plots.resize(document.getElementById(\"246effa2-2424-4f9d-b2b2-b6b15c38723c\"));});</script>"
      ],
      "text/vnd.plotly.v1+html": [
       "<div id=\"246effa2-2424-4f9d-b2b2-b6b15c38723c\" style=\"height: 525px; width: 100%;\" class=\"plotly-graph-div\"></div><script type=\"text/javascript\">require([\"plotly\"], function(Plotly) { window.PLOTLYENV=window.PLOTLYENV || {};window.PLOTLYENV.BASE_URL=\"https://plot.ly\";Plotly.newPlot(\"246effa2-2424-4f9d-b2b2-b6b15c38723c\", [{\"x\": [2016, 2014, 2012, 2010, 2008, 2006, 2004, 2002], \"y\": [6.808695652173913, 6.373151981076286, 6.104633781763827, 6.427559562137798, 5.942019543973942, 6.236737400530504, 6.388401888064734, 6.32061978545888], \"type\": \"scatter\", \"uid\": \"c2383f91-58c2-49af-926e-9d9f760352bd\"}], {\"title\": {\"text\": \"Hungary (avarage happiness 2002 - 2016 )\"}}, {\"showLink\": false, \"linkText\": \"Export to plot.ly\", \"plotlyServerURL\": \"https://plot.ly\"})});</script><script type=\"text/javascript\">window.addEventListener(\"resize\", function(){window._Plotly.Plots.resize(document.getElementById(\"246effa2-2424-4f9d-b2b2-b6b15c38723c\"));});</script>"
      ]
     },
     "metadata": {},
     "output_type": "display_data"
    }
   ],
   "source": [
    "df_temp = df2.filter(col('cntry') == 'HU').filter(col('happy') < 11).select('happy','essround').groupBy('essround').mean('happy').sort(col('essround').desc()).toPandas()\n",
    "py.iplot({\n",
    "    \"data\": [go.Scatter(x=df_temp['essround'], y=df_temp['avg(happy)'])],\n",
    "    \"layout\": go.Layout(title=\"Hungary (avarage happiness 2002 - 2016 )\")\n",
    "})"
   ]
  },
  {
   "cell_type": "code",
   "execution_count": 127,
   "metadata": {},
   "outputs": [],
   "source": [
    "df2 = df.select('cntry','happy','essround','agea').withColumn('essround', mapping_expr[df['essround']]).filter(col('cntry') == 'HU').filter(col('agea') < 999)"
   ]
  },
  {
   "cell_type": "code",
   "execution_count": 128,
   "metadata": {},
   "outputs": [],
   "source": [
    "from pyspark.sql.functions import mean as _mean, stddev as _stddev, max as _max"
   ]
  },
  {
   "cell_type": "code",
   "execution_count": 129,
   "metadata": {},
   "outputs": [
    {
     "name": "stdout",
     "output_type": "stream",
     "text": [
      "+-----------------+-----------------+---------+\n",
      "|        avg(agea)|stddev_samp(agea)|max(agea)|\n",
      "+-----------------+-----------------+---------+\n",
      "|48.34431229033242|18.52969731209441|     95.0|\n",
      "+-----------------+-----------------+---------+\n",
      "\n"
     ]
    }
   ],
   "source": [
    "df2.select(_mean(col('agea')),_stddev('agea'),_max('agea')).show()"
   ]
  },
  {
   "cell_type": "code",
   "execution_count": 148,
   "metadata": {},
   "outputs": [],
   "source": [
    "df_age1 = df2.filter(col('happy') < 11). \\\n",
    "filter(col('agea') <= 25). \\\n",
    "select('happy','essround'). \\\n",
    "groupBy('essround').mean('happy'). \\\n",
    "sort(col('essround').desc()).toPandas()"
   ]
  },
  {
   "cell_type": "code",
   "execution_count": 149,
   "metadata": {},
   "outputs": [],
   "source": [
    "df_age2 = df2.filter(col('happy') < 11).filter(col('agea') > 25).filter(col('agea') <= 45).select('happy','essround').groupBy('essround').mean('happy').sort(col('essround').desc()).toPandas()\n",
    "df_age3 = df2.filter(col('happy') < 11).filter(col('agea') > 45).filter(col('agea') <= 65).select('happy','essround').groupBy('essround').mean('happy').sort(col('essround').desc()).toPandas()\n",
    "df_age4 = df2.filter(col('happy') < 11).filter(col('agea') > 65).filter(col('agea') <= 85).select('happy','essround').groupBy('essround').mean('happy').sort(col('essround').desc()).toPandas()\n",
    "df_age5 = df2.filter(col('happy') < 11).filter(col('agea') > 85).select('happy','essround').groupBy('essround').mean('happy'). sort(col('essround').desc()).toPandas()"
   ]
  },
  {
   "cell_type": "code",
   "execution_count": 150,
   "metadata": {},
   "outputs": [
    {
     "data": {
      "application/vnd.plotly.v1+json": {
       "config": {
        "linkText": "Export to plot.ly",
        "plotlyServerURL": "https://plot.ly",
        "showLink": false
       },
       "data": [
        {
         "name": "-25",
         "type": "scatter",
         "uid": "8414fb18-aeec-413d-9702-d9262ead8af2",
         "x": [
          2016,
          2014,
          2012,
          2010,
          2008,
          2006,
          2004,
          2002
         ],
         "y": [
          7.595505617977528,
          7.297560975609756,
          6.972508591065292,
          7.105990783410138,
          6.851063829787234,
          7.405594405594406,
          7.397260273972603,
          7.153024911032029
         ]
        },
        {
         "name": "26-45",
         "type": "scatter",
         "uid": "c1513f5c-3949-43fa-868b-027374ed5323",
         "x": [
          2016,
          2014,
          2012,
          2010,
          2008,
          2006,
          2004,
          2002
         ],
         "y": [
          7.360655737704918,
          6.830374753451676,
          6.279411764705882,
          6.779047619047619,
          6.338775510204082,
          6.591928251121076,
          6.674226804123712,
          6.661596958174905
         ]
        },
        {
         "name": "46-65",
         "type": "scatter",
         "uid": "cfec1c53-fb05-4a98-9e79-7fb6bc278dd7",
         "x": [
          2016,
          2014,
          2012,
          2010,
          2008,
          2006,
          2004,
          2002
         ],
         "y": [
          6.64954128440367,
          6.161178509532062,
          5.819259259259259,
          6.017208413001912,
          5.407867494824017,
          5.957446808510638,
          5.942056074766355,
          5.946308724832215
         ]
        },
        {
         "name": "66-85",
         "type": "scatter",
         "uid": "351b31b4-f388-42c0-936f-0e844030d13a",
         "x": [
          2016,
          2014,
          2012,
          2010,
          2008,
          2006,
          2004,
          2002
         ],
         "y": [
          6.021333333333334,
          5.641025641025641,
          5.647761194029851,
          6.071969696969697,
          5.531353135313531,
          5.800546448087432,
          5.9480519480519485,
          5.61596958174905
         ]
        },
        {
         "name": "85-",
         "type": "scatter",
         "uid": "011e4dfb-0a30-42c0-9e1d-4250fae0ca6d",
         "x": [
          2016,
          2014,
          2012,
          2010,
          2008,
          2006,
          2004,
          2002
         ],
         "y": [
          5.666666666666667,
          5.25,
          5.115384615384615,
          5.458333333333333,
          4.875,
          6,
          4.75,
          5.916666666666667
         ]
        }
       ],
       "layout": {
        "title": {
         "text": "Avarage happiness 2002 - 2016 )"
        }
       }
      },
      "text/html": [
       "<div id=\"a25c307c-4a69-433a-acfc-f7ff153acedf\" style=\"height: 525px; width: 100%;\" class=\"plotly-graph-div\"></div><script type=\"text/javascript\">require([\"plotly\"], function(Plotly) { window.PLOTLYENV=window.PLOTLYENV || {};window.PLOTLYENV.BASE_URL=\"https://plot.ly\";Plotly.newPlot(\"a25c307c-4a69-433a-acfc-f7ff153acedf\", [{\"name\": \"-25\", \"x\": [2016, 2014, 2012, 2010, 2008, 2006, 2004, 2002], \"y\": [7.595505617977528, 7.297560975609756, 6.972508591065292, 7.105990783410138, 6.851063829787234, 7.405594405594406, 7.397260273972603, 7.153024911032029], \"type\": \"scatter\", \"uid\": \"00512ee4-789f-4bad-a104-d346522bb094\"}, {\"name\": \"26-45\", \"x\": [2016, 2014, 2012, 2010, 2008, 2006, 2004, 2002], \"y\": [7.360655737704918, 6.830374753451676, 6.279411764705882, 6.779047619047619, 6.338775510204082, 6.591928251121076, 6.674226804123712, 6.661596958174905], \"type\": \"scatter\", \"uid\": \"c12acd2b-79b5-4fab-ab16-c03608b7ec95\"}, {\"name\": \"46-65\", \"x\": [2016, 2014, 2012, 2010, 2008, 2006, 2004, 2002], \"y\": [6.64954128440367, 6.161178509532062, 5.819259259259259, 6.017208413001912, 5.407867494824017, 5.957446808510638, 5.942056074766355, 5.946308724832215], \"type\": \"scatter\", \"uid\": \"036106df-8c57-4e5a-bd4f-54f0efd0ed87\"}, {\"name\": \"66-85\", \"x\": [2016, 2014, 2012, 2010, 2008, 2006, 2004, 2002], \"y\": [6.021333333333334, 5.641025641025641, 5.647761194029851, 6.071969696969697, 5.531353135313531, 5.800546448087432, 5.9480519480519485, 5.61596958174905], \"type\": \"scatter\", \"uid\": \"f800723e-58ca-4e82-a8c1-ae2b0a3523da\"}, {\"name\": \"85-\", \"x\": [2016, 2014, 2012, 2010, 2008, 2006, 2004, 2002], \"y\": [5.666666666666667, 5.25, 5.115384615384615, 5.458333333333333, 4.875, 6.0, 4.75, 5.916666666666667], \"type\": \"scatter\", \"uid\": \"a466906d-32c8-49df-af85-f941029a0555\"}], {\"title\": {\"text\": \"Avarage happiness 2002 - 2016 )\"}}, {\"showLink\": false, \"linkText\": \"Export to plot.ly\", \"plotlyServerURL\": \"https://plot.ly\"})});</script><script type=\"text/javascript\">window.addEventListener(\"resize\", function(){window._Plotly.Plots.resize(document.getElementById(\"a25c307c-4a69-433a-acfc-f7ff153acedf\"));});</script>"
      ],
      "text/vnd.plotly.v1+html": [
       "<div id=\"a25c307c-4a69-433a-acfc-f7ff153acedf\" style=\"height: 525px; width: 100%;\" class=\"plotly-graph-div\"></div><script type=\"text/javascript\">require([\"plotly\"], function(Plotly) { window.PLOTLYENV=window.PLOTLYENV || {};window.PLOTLYENV.BASE_URL=\"https://plot.ly\";Plotly.newPlot(\"a25c307c-4a69-433a-acfc-f7ff153acedf\", [{\"name\": \"-25\", \"x\": [2016, 2014, 2012, 2010, 2008, 2006, 2004, 2002], \"y\": [7.595505617977528, 7.297560975609756, 6.972508591065292, 7.105990783410138, 6.851063829787234, 7.405594405594406, 7.397260273972603, 7.153024911032029], \"type\": \"scatter\", \"uid\": \"00512ee4-789f-4bad-a104-d346522bb094\"}, {\"name\": \"26-45\", \"x\": [2016, 2014, 2012, 2010, 2008, 2006, 2004, 2002], \"y\": [7.360655737704918, 6.830374753451676, 6.279411764705882, 6.779047619047619, 6.338775510204082, 6.591928251121076, 6.674226804123712, 6.661596958174905], \"type\": \"scatter\", \"uid\": \"c12acd2b-79b5-4fab-ab16-c03608b7ec95\"}, {\"name\": \"46-65\", \"x\": [2016, 2014, 2012, 2010, 2008, 2006, 2004, 2002], \"y\": [6.64954128440367, 6.161178509532062, 5.819259259259259, 6.017208413001912, 5.407867494824017, 5.957446808510638, 5.942056074766355, 5.946308724832215], \"type\": \"scatter\", \"uid\": \"036106df-8c57-4e5a-bd4f-54f0efd0ed87\"}, {\"name\": \"66-85\", \"x\": [2016, 2014, 2012, 2010, 2008, 2006, 2004, 2002], \"y\": [6.021333333333334, 5.641025641025641, 5.647761194029851, 6.071969696969697, 5.531353135313531, 5.800546448087432, 5.9480519480519485, 5.61596958174905], \"type\": \"scatter\", \"uid\": \"f800723e-58ca-4e82-a8c1-ae2b0a3523da\"}, {\"name\": \"85-\", \"x\": [2016, 2014, 2012, 2010, 2008, 2006, 2004, 2002], \"y\": [5.666666666666667, 5.25, 5.115384615384615, 5.458333333333333, 4.875, 6.0, 4.75, 5.916666666666667], \"type\": \"scatter\", \"uid\": \"a466906d-32c8-49df-af85-f941029a0555\"}], {\"title\": {\"text\": \"Avarage happiness 2002 - 2016 )\"}}, {\"showLink\": false, \"linkText\": \"Export to plot.ly\", \"plotlyServerURL\": \"https://plot.ly\"})});</script><script type=\"text/javascript\">window.addEventListener(\"resize\", function(){window._Plotly.Plots.resize(document.getElementById(\"a25c307c-4a69-433a-acfc-f7ff153acedf\"));});</script>"
      ]
     },
     "metadata": {},
     "output_type": "display_data"
    }
   ],
   "source": [
    "py.iplot({\n",
    "    \"data\": [ go.Scatter( x= df_age1['essround'], y= df_age1['avg(happy)'], name='-25' ), \n",
    "              go.Scatter( x= df_age2['essround'], y= df_age2['avg(happy)'], name='26-45' ),\n",
    "              go.Scatter( x= df_age3['essround'], y= df_age3['avg(happy)'], name='46-65' ),\n",
    "              go.Scatter( x= df_age4['essround'], y= df_age4['avg(happy)'], name='66-85' ),\n",
    "              go.Scatter( x= df_age5['essround'], y= df_age5['avg(happy)'], name='85-' )\n",
    "            ],\n",
    "    \"layout\": go.Layout(title=\"Avarage happiness 2002 - 2016 )\")\n",
    "})"
   ]
  },
  {
   "cell_type": "code",
   "execution_count": null,
   "metadata": {},
   "outputs": [],
   "source": []
  },
  {
   "cell_type": "code",
   "execution_count": null,
   "metadata": {},
   "outputs": [],
   "source": []
  }
 ],
 "metadata": {
  "kernelspec": {
   "display_name": "Python [conda env:py3int]",
   "language": "python",
   "name": "conda-env-py3int-py"
  },
  "language_info": {
   "codemirror_mode": {
    "name": "ipython",
    "version": 3
   },
   "file_extension": ".py",
   "mimetype": "text/x-python",
   "name": "python",
   "nbconvert_exporter": "python",
   "pygments_lexer": "ipython3",
   "version": "3.6.6"
  }
 },
 "nbformat": 4,
 "nbformat_minor": 2
}
