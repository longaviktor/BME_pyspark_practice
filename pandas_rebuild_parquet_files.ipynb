{
 "cells": [
  {
   "cell_type": "code",
   "execution_count": 1,
   "metadata": {},
   "outputs": [],
   "source": [
    "import numpy as np\n",
    "import pandas as pd\n",
    "import subprocess"
   ]
  },
  {
   "cell_type": "code",
   "execution_count": 2,
   "metadata": {},
   "outputs": [],
   "source": [
    "from IPython.display import clear_output"
   ]
  },
  {
   "cell_type": "code",
   "execution_count": 3,
   "metadata": {},
   "outputs": [],
   "source": [
    "prqt_loc = '../../../../datasets/ess/parquet/'"
   ]
  },
  {
   "cell_type": "code",
   "execution_count": 4,
   "metadata": {
    "scrolled": true
   },
   "outputs": [
    {
     "name": "stdout",
     "output_type": "stream",
     "text": [
      "Exit code: 0\n",
      "Output:\n",
      "\n",
      "ESS1_180115.parquet\n",
      "ESS2_180115.parquet\n",
      "ESS3_180115.parquet\n",
      "ESS4_190213.parquet\n",
      "ESS5_180115.parquet\n",
      "ESS6_180115.parquet\n",
      "ESS7_180115.parquet\n",
      "ESS8_190213.parquet\n",
      "\n"
     ]
    }
   ],
   "source": [
    "p = subprocess.Popen(f'ls {prqt_loc}', shell=True, stdout=subprocess.PIPE)\n",
    "ret = p.communicate()\n",
    "print('Exit code: {}\\nOutput:\\n\\n{}'.format(p.returncode, ret[0].decode('utf-8')))"
   ]
  },
  {
   "cell_type": "code",
   "execution_count": 5,
   "metadata": {},
   "outputs": [],
   "source": [
    "parquets = [ pqt for pqt in ret[0].decode('utf-8').split('\\n') if pqt.find('.parquet') > 0 ]"
   ]
  },
  {
   "cell_type": "code",
   "execution_count": 6,
   "metadata": {},
   "outputs": [],
   "source": [
    "df_dtypes = pd.DataFrame()\n",
    "for parquet in parquets:\n",
    "    df = pd.read_parquet(f\"{prqt_loc}{parquet}\")\n",
    "    dtype_dict = df.dtypes.to_dict()\n",
    "    for key in dtype_dict:\n",
    "        df_dtypes.loc[parquet,key] = dtype_dict[key]"
   ]
  },
  {
   "cell_type": "code",
   "execution_count": 7,
   "metadata": {},
   "outputs": [],
   "source": [
    "vtype_order = {np.dtype('O'):4,np.dtype('float64'):3,np.dtype('int64'):1, np.nan: 2}"
   ]
  },
  {
   "cell_type": "code",
   "execution_count": 8,
   "metadata": {},
   "outputs": [],
   "source": [
    "ess_schema_new = {}\n",
    "for col in df_dtypes.columns:\n",
    "    ess_schema_new[col] = sorted( list( set( df_dtypes[col].unique() ) ), key= lambda x: -vtype_order.get(x)  )[0]"
   ]
  },
  {
   "cell_type": "code",
   "execution_count": 9,
   "metadata": {},
   "outputs": [],
   "source": [
    "def is_nan(x):\n",
    "    return (x is np.nan or x != x)"
   ]
  },
  {
   "cell_type": "code",
   "execution_count": 10,
   "metadata": {},
   "outputs": [],
   "source": [
    "for key in ess_schema_new.keys():\n",
    "    if is_nan(ess_schema_new[key]):\n",
    "        ess_schema_new[key] = np.dtype('float64')"
   ]
  },
  {
   "cell_type": "code",
   "execution_count": 11,
   "metadata": {},
   "outputs": [
    {
     "name": "stdout",
     "output_type": "stream",
     "text": [
      "ESS1_180115.parquet\n",
      "ESS2_180115.parquet\n",
      "ESS3_180115.parquet\n",
      "ESS4_190213.parquet\n",
      "ESS5_180115.parquet\n",
      "ESS6_180115.parquet\n",
      "ESS7_180115.parquet\n",
      "ESS8_190213.parquet\n"
     ]
    }
   ],
   "source": [
    "for parquet in parquets:\n",
    "    print(parquet)\n",
    "    df = pd.read_parquet(f\"{prqt_loc}{parquet}\")\n",
    "    diff_col = list( set(ess_schema_new.keys()) - set(df.columns) )\n",
    "    df2 = pd.DataFrame()\n",
    "    df2 = pd.DataFrame(columns = [col for col in diff_col])\n",
    "    df2 = pd.concat([df,df2],sort=False)\n",
    "    for col in list(ess_schema_new.keys()):\n",
    "        df2[col] = df2[col].astype( ess_schema_new[col] , copy=False)\n",
    "    df2.to_parquet(f\"{prqt_loc}ns_{parquet}\")"
   ]
  }
 ],
 "metadata": {
  "kernelspec": {
   "display_name": "Python [conda env:py3int]",
   "language": "python",
   "name": "conda-env-py3int-py"
  },
  "language_info": {
   "codemirror_mode": {
    "name": "ipython",
    "version": 3
   },
   "file_extension": ".py",
   "mimetype": "text/x-python",
   "name": "python",
   "nbconvert_exporter": "python",
   "pygments_lexer": "ipython3",
   "version": "3.6.6"
  }
 },
 "nbformat": 4,
 "nbformat_minor": 2
}
